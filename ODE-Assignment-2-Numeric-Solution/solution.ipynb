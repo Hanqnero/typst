{
 "cells": [
  {
   "cell_type": "code",
   "execution_count": 23,
   "metadata": {},
   "outputs": [],
   "source": [
    "import numpy as np"
   ]
  },
  {
   "cell_type": "code",
   "execution_count": 30,
   "metadata": {},
   "outputs": [],
   "source": [
    "with open('table1.typ', 'wt') as file:\n",
    "    out = file\n",
    "\n",
    "    print('#table(columns: 8, ', file=out)\n",
    "    print('[$i$],[$x$],[$y$],[$z$],[$K$],[$l$],[$Delta y$],[$Delta z$],', file=out)\n",
    "\n",
    "    h = 0.1\n",
    "    XS = np.linspace(0, 0.3, 4)\n",
    "    N = XS.shape[0]\n",
    "\n",
    "    YS = [2]\n",
    "\n",
    "    # y' = z\n",
    "    # z' = 2 y + x exp(-x)\n",
    "\n",
    "    g = lambda x, y: 2 * y + x * np.exp(-x) # y''\n",
    "    f = lambda z: z                      # y'\n",
    "\n",
    "    y = 2\n",
    "    z = 1\n",
    "    i = 0\n",
    "    for x in XS[:-1]:\n",
    "\n",
    "        print(f\"// X = {x:.2f}\", file=out)\n",
    "        \n",
    "        x1 = x; y1 = y; z1 = z\n",
    "        K1 = h * g(x1, y1)\n",
    "        L1 = h * f(z1)\n",
    "\n",
    "        x2 = x + h / 2; y2 = y + L1/2; z2 = z + K1/2\n",
    "        K2 = h * g(x2, y2)\n",
    "        L2 = h * f(z2)\n",
    "\n",
    "        x3 = x + h / 2; y3 = y + L2/2; z3 = z + K2/2\n",
    "        K3 = h * g(x3, y3)\n",
    "        L3 = h * f(z3)\n",
    "\n",
    "        x4 = x + h; y4 = y + L3/2; z4 = z + K3/2\n",
    "        K4 = h * g(x4, y4)\n",
    "        L4 = h * f(z4)\n",
    "\n",
    "        print(f'[{i:1d}],', file=out)\n",
    "\n",
    "        print('[{:4.2f}\\\\ {:4.2f}\\\\ {:4.2f}\\\\ {:4.2f}],'.format(x1, x2, x3, x4), file=out)\n",
    "        print('[{:8.6f}\\\\ {:8.6f}\\\\ {:8.6f}\\\\ {:8.6f}],'.format(y1, y2, y3, y4), file=out)\n",
    "        print('[{:8.6f}\\\\ {:8.6f}\\\\ {:8.6f}\\\\ {:8.6f}],'.format(z1, z2, z3, z4), file=out)\n",
    "        print('[{:8.6f}\\\\ {:8.6f}\\\\ {:8.6f}\\\\ {:8.6f}],'.format(K1, K2, K3, K4), file=out)\n",
    "        print('[{:8.6f}\\\\ {:8.6f}\\\\ {:8.6f}\\\\ {:8.6f}],'.format(L1, L2, L3, L4), file=out)\n",
    "\n",
    "        print('[{:8.6f}\\\\ {:8.6f}\\\\ {:8.6f}\\\\ {:8.6f}],'.format(L1, 2*L2, 2*L3, L4), file=out)\n",
    "        print('[{:8.6f}\\\\ {:8.6f}\\\\ {:8.6f}\\\\ {:8.6f}],'.format(K1, 2*K2, 2*K3, K4), file=out)\n",
    "        print('[],'*6, f'[{sum([L1, 2*L2, 2*L3, L4]):8.6f}]', ',', sep='', file=out)\n",
    "        print(f'[{sum([K1, 2*K2, 2*K3, K4]):8.6f}]', ',', sep='', file=out)\n",
    "\n",
    "        i += 1\n",
    "        z = z + 1/6 * (K1+2*K2+2*K3+K4)\n",
    "        y = y + 1/6 * (L1+2*L2+2*L3+L4)\n",
    "\n",
    "        YS.append(y)\n",
    "\n",
    "    print(f'[{N-1}],[{XS[-1]:4.2f}],[{y:8.6f}],[{z:8.6f}],', '[],'*4, file=out)\n",
    "    print(')', file=out)"
   ]
  },
  {
   "cell_type": "code",
   "execution_count": 25,
   "metadata": {},
   "outputs": [],
   "source": [
    "import sympy as sp\n",
    "\n",
    "symbX = sp.symbols('x')\n",
    "symbY, symbZ = sp.symbols('y z', cls=sp.Function)"
   ]
  },
  {
   "cell_type": "code",
   "execution_count": 26,
   "metadata": {},
   "outputs": [
    {
     "data": {
      "text/latex": [
       "$\\displaystyle - x e^{- x} + \\sqrt{2} e^{\\sqrt{2} x} - \\sqrt{2} e^{- \\sqrt{2} x} + 2 e^{- x}$"
      ],
      "text/plain": [
       "-x*exp(-x) + sqrt(2)*exp(sqrt(2)*x) - sqrt(2)*exp(-sqrt(2)*x) + 2*exp(-x)"
      ]
     },
     "execution_count": 26,
     "metadata": {},
     "output_type": "execute_result"
    }
   ],
   "source": [
    "sol = sp.dsolve(\n",
    "    sp.Eq(\n",
    "        symbY(symbX).diff(symbX,2),\n",
    "        2*symbY(symbX) + symbX * sp.exp(-symbX)\n",
    "    ),\n",
    "    ics={\n",
    "        symbY(0): 2,\n",
    "        symbY(symbX).diff(symbX,1).subs(symbX, 0): 1\n",
    "    }\n",
    ").rhs\n",
    "sol"
   ]
  },
  {
   "cell_type": "code",
   "execution_count": 27,
   "metadata": {},
   "outputs": [
    {
     "data": {
      "text/plain": [
       "[2.0, 2.1205257615700868, 2.2844247702339073, 2.4957163672074647]"
      ]
     },
     "execution_count": 27,
     "metadata": {},
     "output_type": "execute_result"
    }
   ],
   "source": [
    "YS_exact = list(map(\n",
    "    lambda x: float(sol.subs(symbX, x)),\n",
    "    XS\n",
    "))\n",
    "YS_exact"
   ]
  },
  {
   "cell_type": "code",
   "execution_count": 28,
   "metadata": {},
   "outputs": [
    {
     "data": {
      "text/latex": [
       "$\\displaystyle 2.4957164$"
      ],
      "text/plain": [
       "2.4957164"
      ]
     },
     "execution_count": 28,
     "metadata": {},
     "output_type": "execute_result"
    }
   ],
   "source": [
    "sol.subs(symbX, 0.3).n(8)"
   ]
  },
  {
   "cell_type": "code",
   "execution_count": 36,
   "metadata": {},
   "outputs": [],
   "source": [
    "with open('table2.typ', 'wt') as out:\n",
    "    print('#table(columns: 4, inset: (y: 0.6em),', file=out)\n",
    "    print(\"\"\"[$x_i$], \n",
    "    [метод\\\\ Рунге-Кутта\\\\ $y_i$],\n",
    "    [Точное\\\\ решение\\\\ $y(x_i)$],\n",
    "    [Абсолютная\\\\ погрешность\\\\ $|y_i - y(x_i)|$],\"\"\", file=out)\n",
    "\n",
    "    for i in range(N):\n",
    "        D = abs(YS[i] - YS_exact[i])\n",
    "        print(f\"[$x_{i}$],[{YS[i]:8.6f}],[{YS_exact[i]:8.6f}],[{D:8.6f}],\", file=out)\n",
    "\n",
    "    print(')', file=out)"
   ]
  },
  {
   "cell_type": "code",
   "execution_count": null,
   "metadata": {},
   "outputs": [],
   "source": []
  }
 ],
 "metadata": {
  "kernelspec": {
   "display_name": "jupyter3.13",
   "language": "python",
   "name": "python3"
  },
  "language_info": {
   "codemirror_mode": {
    "name": "ipython",
    "version": 3
   },
   "file_extension": ".py",
   "mimetype": "text/x-python",
   "name": "python",
   "nbconvert_exporter": "python",
   "pygments_lexer": "ipython3",
   "version": "3.13.1"
  }
 },
 "nbformat": 4,
 "nbformat_minor": 2
}
