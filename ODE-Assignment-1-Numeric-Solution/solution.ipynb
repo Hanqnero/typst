{
 "cells": [
  {
   "cell_type": "code",
   "execution_count": 27,
   "metadata": {},
   "outputs": [],
   "source": [
    "import numpy as np\n",
    "import matplotlib.pyplot as plt\n",
    "np.set_printoptions(4)\n",
    "import sys"
   ]
  },
  {
   "cell_type": "code",
   "execution_count": 28,
   "metadata": {},
   "outputs": [],
   "source": [
    "XS = np.linspace(0,2,11)\n",
    "I = np.where(XS == 1)[0][0]\n",
    "n = N = XS.shape[0]\n",
    "h = np.float64('.2')\n",
    "f = lambda x,y: y - x*x\n"
   ]
  },
  {
   "cell_type": "code",
   "execution_count": 29,
   "metadata": {},
   "outputs": [],
   "source": [
    "cellformat = lambda x: \"[{:5.4f}]\".format(x)"
   ]
  },
  {
   "cell_type": "code",
   "execution_count": 30,
   "metadata": {},
   "outputs": [],
   "source": [
    "table1_i = np.array(range(1, n+1))\n",
    "table1_x = XS\n",
    "table1_y = np.zeros((n,), dtype=np.float64)\n",
    "table1_y[I] = 2\n",
    "table1_f = np.zeros((n,), dtype=np.float64)\n",
    "table1_deltay = np.zeros((n,), dtype=np.float64)\n",
    "\n",
    "for i in range(I, 0, -1):\n",
    "    table1_f[i] = f(table1_x[i], table1_y[i])\n",
    "    table1_deltay[i] = -h*table1_f[i]\n",
    "    table1_y[i-1] = table1_y[i] + table1_deltay[i]\n",
    "for i in range(I, N-1):\n",
    "    table1_f[i] = f(table1_x[i], table1_y[i])\n",
    "    table1_deltay[i] = h*table1_f[i]\n",
    "    table1_y[i+1] = table1_y[i] + table1_deltay[i]\n",
    "\n",
    "table1 = np.vstack((table1_i, table1_x, table1_y, table1_f, table1_deltay)).T"
   ]
  },
  {
   "cell_type": "code",
   "execution_count": 31,
   "metadata": {},
   "outputs": [],
   "source": [
    "out = sys.stdout\n",
    "\n",
    "with open('table1.typ', 'wt') as file:\n",
    "    out = file\n",
    "    print('#table(columns: 5,', file=out)\n",
    "    print('inset: (y: .5em),', file=out)\n",
    "    print('[$i$], [$x_i$], [$y_i$], [$f(x_i, y_i)$], [$Delta y_i$],', file=out)\n",
    "\n",
    "    for row in table1:\n",
    "        i = f'[{int(row[0])}]'\n",
    "        row = map(cellformat, row[1:])\n",
    "        print(i, *row, sep=', ', end=',\\n', file=out)\n",
    "\n",
    "    print(')', file=out)"
   ]
  },
  {
   "cell_type": "markdown",
   "metadata": {},
   "source": [
    "# 2"
   ]
  },
  {
   "cell_type": "code",
   "execution_count": 32,
   "metadata": {},
   "outputs": [],
   "source": [
    "table2_i = np.arange(1, n+1)\n",
    "table2_x = XS\n",
    "table2_y = np.zeros((n,), dtype=np.float64)\n",
    "table2_f = np.zeros((n,), dtype=np.float64)\n",
    "\n",
    "table2_x2 = table2_x + h / 2\n",
    "table2_y2 = np.zeros((n,), dtype=np.float64)\n",
    "table2_f2 = np.zeros((n,), dtype=np.float64)\n",
    "\n",
    "table2_deltay = np.zeros((n,), dtype=np.float64)\n",
    "\n",
    "table2_y[I] = 2\n",
    "\n",
    "\n",
    "for i in range(I, 0, -1):\n",
    "    table2_f[i] = f(table2_x[i], table2_y[i])\n",
    "\n",
    "    # table2_x2\n",
    "    table2_y2[i] = table2_y[i] -h/2 * table2_f[i]\n",
    "    table2_f2[i] = f(table2_x2[i], table2_y2[i])\n",
    "\n",
    "    table2_deltay[i] = -h*table2_f2[i]\n",
    "    table2_y[i-1] = table2_y[i] + table2_deltay[i]\n",
    " \n",
    "for i in range(I, n-1):\n",
    "    table2_f[i] = f(table2_x[i], table2_y[i])\n",
    "\n",
    "    # table2_x2\n",
    "    table2_y2[i] = table2_y[i] + h/2 * table2_f[i]\n",
    "    table2_f2[i] = f(table2_x2[i], table2_y2[i])\n",
    "\n",
    "    table2_deltay[i] = h*table2_f2[i]\n",
    "    table2_y[i+1] = table2_y[i] + table2_deltay[i]\n",
    "\n",
    "table2 = np.vstack((table2_i, \n",
    "                         table2_x, table2_x2, \n",
    "                         table2_y, table2_y2, \n",
    "                         table2_f, table2_f2, \n",
    "                         table2_deltay)).T\n"
   ]
  },
  {
   "cell_type": "code",
   "execution_count": 33,
   "metadata": {},
   "outputs": [],
   "source": [
    "table2_columns = [\n",
    "    '$i$', \n",
    "    '$x_i$', \n",
    "    '$x_(i+1/2)$', \n",
    "    '$y$',\n",
    "    '$y_(i + 1/2)$',\n",
    "    '$f(x_i, y_i)$',\n",
    "    '$f(x_(i+1/2), y_(i+1/2))$',\n",
    "    '$Delta y_i$'\n",
    "]\n",
    "with open('table2.typ', 'wt') as file:\n",
    "    out = file\n",
    "    print(f'#table(columns: {len(table2_columns)}', end=',\\n', file=out)\n",
    "    print('inset: (y: 0.7em),', file=out)\n",
    "    print(*map(lambda s: f\"[{s:s}]\", table2_columns), sep=',', end=',\\n', file=out)\n",
    "\n",
    "    for i in range(n):\n",
    "        row = table2[i, 1:]\n",
    "        print(f'[{table2_i[i]:1d}]', end=',', file=out)\n",
    "        print(*map(cellformat, row), end=',\\n',sep=',',file=out)\n",
    "\n",
    "    print(')', file=out)\n"
   ]
  },
  {
   "cell_type": "markdown",
   "metadata": {},
   "source": [
    "# 3"
   ]
  },
  {
   "cell_type": "code",
   "execution_count": 34,
   "metadata": {},
   "outputs": [],
   "source": [
    "table3_i  = np.arange(0, N)\n",
    "table3_x1 = XS\n",
    "table3_x2 = table3_x1 + h / 2 \n",
    "table3_x3 = table3_x1 + h / 2\n",
    "table3_x4 = table3_x1 + h\n",
    "\n",
    "table3_y1 = np.zeros((n,),dtype=np.float64)\n",
    "table3_y1[I] = 2\n",
    "\n",
    "table3_y2 = np.zeros((n,),dtype=np.float64)\n",
    "table3_y3 = np.zeros((n,),dtype=np.float64)\n",
    "table3_y4 = np.zeros((n,),dtype=np.float64)\n",
    "\n",
    "table3_K1 = np.zeros((n,),dtype=np.float64)\n",
    "table3_K2 = np.zeros((n,),dtype=np.float64)\n",
    "table3_K3 = np.zeros((n,),dtype=np.float64)\n",
    "table3_K4 = np.zeros((n,),dtype=np.float64)\n",
    "\n",
    "table3_Dy = np.zeros((n,),dtype=np.float64) \n",
    "\n",
    "for i in range(I, 0, -1):\n",
    "    table3_K1[i] = f(table3_x1[i], table3_y1[i]) * -h\n",
    "\n",
    "    table3_y2[i] = table3_y1[i] + table3_K1[i] / 2\n",
    "    table3_K2[i] = f(table3_x2[i], table3_y2[i]) * -h\n",
    "\n",
    "    table3_y3[i] = table3_y1[i] + table3_K2[i] / 2\n",
    "    table3_K3[i] = f(table3_x3[i], table3_y3[i]) * -h\n",
    "\n",
    "    table3_y4[i] = table3_y1[i] + table3_K3[i]\n",
    "    table3_K4[i] = f(table3_x4[i], table3_y4[i]) * -h\n",
    "\n",
    "    table3_Dy[i] = 1/6 * (table3_K1[i] + 2*table3_K2[i] + \n",
    "                          2*table3_K3[i] + table3_K4[i])\n",
    "    \n",
    "    table3_y1[i-1] = table3_y1[i] + table3_Dy[i]\n",
    "\n",
    "for i in range(I, n-1):\n",
    "    table3_K1[i] = f(table3_x1[i], table3_y1[i]) * h\n",
    "\n",
    "    table3_y2[i] = table3_y1[i] + table3_K1[i] / 2\n",
    "    table3_K2[i] = f(table3_x2[i], table3_y2[i]) * h\n",
    "\n",
    "    table3_y3[i] = table3_y1[i] + table3_K2[i] / 2\n",
    "    table3_K3[i] = f(table3_x3[i], table3_y3[i]) * h\n",
    "\n",
    "    table3_y4[i] = table3_y1[i] + table3_K3[i]\n",
    "    table3_K4[i] = f(table3_x4[i], table3_y4[i]) * h\n",
    "\n",
    "    table3_Dy[i] = 1/6 * (table3_K1[i] + 2*table3_K2[i] + \n",
    "                          2*table3_K3[i] + table3_K4[i])\n",
    "    \n",
    "    table3_y1[i+1] = table3_y1[i] + table3_Dy[i]\n",
    "\n",
    "table3 = np.vstack((table3_i, \n",
    "                    table3_x1, table3_x2, table3_x3, table3_x4, \n",
    "                    table3_y1, table3_y2, table3_y3, table3_y4, \n",
    "                    table3_K1, table3_K2, table3_K3, table3_K4, \n",
    "                    table3_Dy)).T"
   ]
  },
  {
   "cell_type": "code",
   "execution_count": 35,
   "metadata": {},
   "outputs": [],
   "source": [
    "with open('table3.typ', 'wt') as out:\n",
    "    print('#table(columns: 5, inset: (x: 1em, ),', file=out)\n",
    "    print('[$i$], [$x$], [$y$], [$K$], [$Delta y_i$],', file=out)\n",
    "\n",
    "    for i in range(n):\n",
    "\n",
    "        if i in (0, n-1):\n",
    "            print(f'[{table3_i[i]:1d}],{cellformat(table3_x1[i])},{cellformat(table3_y1[i])},[],[],', file=out)\n",
    "            continue\n",
    "\n",
    "        print(f'[{table3_i[i]}],', file=out)\n",
    "        print(f'[\\\n",
    "    {table3_x1[i]:5.4f}\\\\ \\\n",
    "    {table3_x2[i]:5.4f}\\\\ \\\n",
    "    {table3_x3[i]:5.4f}\\\\ \\\n",
    "    {table3_x4[i]:5.4f}],', file=out)\n",
    "        \n",
    "        print(f'[\\\n",
    "    {table3_y1[i]:5.4f}\\\\ \\\n",
    "    {table3_y2[i]:5.4f}\\\\ \\\n",
    "    {table3_y3[i]:5.4f}\\\\ \\\n",
    "    {table3_y4[i]:5.4f}],', file=out)\n",
    "        \n",
    "        print(f'[\\\n",
    "    {table3_K1[i]:5.4f}\\\\ \\\n",
    "    {table3_K2[i]:5.4f}\\\\ \\\n",
    "    {table3_K3[i]:5.4f}\\\\ \\\n",
    "    {table3_K4[i]:5.4f}],', file=out)\n",
    "        \n",
    "        print(f'[\\\n",
    "    {  table3_K1[i]:5.4f}\\\\ \\\n",
    "    {2*table3_K2[i]:5.4f}\\\\ \\\n",
    "    {2*table3_K3[i]:5.4f}\\\\ \\\n",
    "    {  table3_K4[i]:5.4f}],', file=out)\n",
    "        \n",
    "        print('[],' * 4, f'[{table3_Dy[i]:5.4f}],', file=out)\n",
    "\n",
    "\n",
    "    print(')', file=out)"
   ]
  },
  {
   "cell_type": "markdown",
   "metadata": {},
   "source": [
    "# 4"
   ]
  },
  {
   "cell_type": "code",
   "execution_count": 36,
   "metadata": {},
   "outputs": [],
   "source": [
    "import sympy as sp"
   ]
  },
  {
   "cell_type": "code",
   "execution_count": 45,
   "metadata": {},
   "outputs": [
    {
     "data": {
      "image/png": "[encoded data removed]",
      "text/latex": [
       "$\\displaystyle x^{2} + 2 x - \\frac{3 e^{x}}{e} + 2$"
      ],
      "text/plain": [
       " 2            -1  x    \n",
       "x  + 2⋅x - 3⋅ℯ  ⋅ℯ  + 2"
      ]
     },
     "execution_count": 45,
     "metadata": {},
     "output_type": "execute_result"
    }
   ],
   "source": [
    "x = sp.symbols('x')\n",
    "y = sp.symbols('y', cls=sp.Function)\n",
    "yp = sp.diff(y(x), x)\n",
    "\n",
    "sp.init_printing()\n",
    "\n",
    "sol = sp.dsolve(\n",
    "    sp.Eq(yp, y(x) - x**2 ), (y(x)), ics={y(1): 2} ,\n",
    ").rhs\n",
    "sol\n"
   ]
  },
  {
   "cell_type": "markdown",
   "metadata": {},
   "source": [
    "# 5"
   ]
  },
  {
   "cell_type": "code",
   "execution_count": 38,
   "metadata": {},
   "outputs": [],
   "source": [
    "solx1 = sol.subs(x, 2)"
   ]
  },
  {
   "cell_type": "code",
   "execution_count": 40,
   "metadata": {},
   "outputs": [],
   "source": [
    "# out = sys.stdout\n",
    "table4_x = np.linspace(1, 2, 6)\n",
    "with open('table4.typ', 'wt') as out:\n",
    "    print(\\\n",
    "    '#table(columns: 9,inset: (x: 0.5em),\\n'\n",
    "    'table.cell(rowspan: 2)[Решение],\\n' +\n",
    "    ',\\n'.join(f'table.cell(rowspan: 2)[$x={x:3.1f}$]' for x in table4_x) +\n",
    "    ',\\n'\n",
    "    'table.cell(colspan: 2)[В точке $x=1.0$],\\n'\n",
    "    'text[$delta_\"Абс\"$], text[$delta_\"Отн\"$],\\n', file=out)\n",
    "\n",
    "    print('[Точное]', end=',', file=out)\n",
    "    print(*map(cellformat, map(lambda k: sol.subs(x, k), table4_x)), sep=',', end=',\\n',file=out)\n",
    "    print('[],[],', file=out)\n",
    "\n",
    "    print('[Метод Эйлера]', end=',', file=out)\n",
    "    print(*map(cellformat, table1_y[I:]), sep=',', end=',',file=out)\n",
    "    print(cellformat(table1_y[-1]-solx1), f'[{((table1_y[-1]-solx1) /solx1 * 100):5.3f}%],', sep=',', file=out)\n",
    "    \n",
    "    print('[Модиф. метод Эйлера]', end=',', file=out)\n",
    "    print(*map(cellformat, table2_y[I:]), sep=',', end=',',file=out)\n",
    "    print(cellformat(table2_y[-1]-solx1), f'[{((table2_y[-1]-solx1) /solx1 * 100):5.3f}%],', sep=',', file=out)\n",
    "    \n",
    "\n",
    "    print('[Метод Рунге-Кутта]', end=',', file=out)\n",
    "    print(*map(cellformat,table3_y1[I:]), sep=',', end=',',file=out)\n",
    "    print(cellformat(table3_y1[-1]- solx1), f'[{((table3_y1[-1]-solx1) /solx1 * 100):5.3f}%],', sep=',', file=out)\n",
    "\n",
    "    print(')', file=out)\n"
   ]
  },
  {
   "cell_type": "code",
   "execution_count": null,
   "metadata": {},
   "outputs": [],
   "source": []
  },
  {
   "cell_type": "code",
   "execution_count": null,
   "metadata": {},
   "outputs": [],
   "source": []
  }
 ],
 "metadata": {
  "kernelspec": {
   "display_name": "jupyter",
   "language": "python",
   "name": "python3"
  },
  "language_info": {
   "codemirror_mode": {
    "name": "ipython",
    "version": 3
   },
   "file_extension": ".py",
   "mimetype": "text/x-python",
   "name": "python",
   "nbconvert_exporter": "python",
   "pygments_lexer": "ipython3",
   "version": "3.10.11"
  }
 },
 "nbformat": 4,
 "nbformat_minor": 2
}
